{
 "cells": [
  {
   "cell_type": "markdown",
   "id": "6da172d6",
   "metadata": {},
   "source": [
    "# CareerFoundry Exercise 4.8 Grouping Data & Aggregating Variables"
   ]
  },
  {
   "cell_type": "markdown",
   "id": "c66022ae",
   "metadata": {},
   "source": [
    "## 1. Importing libraries and data"
   ]
  },
  {
   "cell_type": "code",
   "execution_count": 1,
   "id": "8c9dc6a6",
   "metadata": {},
   "outputs": [],
   "source": [
    "#Importing libraries\n",
    "\n",
    "import os\n",
    "import numpy as np\n",
    "import pandas as pd"
   ]
  },
  {
   "cell_type": "code",
   "execution_count": 2,
   "id": "f666eaf2",
   "metadata": {},
   "outputs": [],
   "source": [
    "path = r'C:\\Users\\rmr1q.000\\Instacart Basket Analysis'\n",
    "ords_prods_merged = pd.read_pickle(os.path.join(path, '02 Data', 'Prepared Data', 'orders_products_merged_new_columns.pkl'))"
   ]
  },
  {
   "cell_type": "markdown",
   "id": "2705551a",
   "metadata": {},
   "source": [
    "## 2. Finding the aggregated mean of order numbers for entire data set"
   ]
  },
  {
   "cell_type": "code",
   "execution_count": 3,
   "id": "ab7eb25f",
   "metadata": {
    "scrolled": true
   },
   "outputs": [
    {
     "data": {
      "text/html": [
       "<div>\n",
       "<style scoped>\n",
       "    .dataframe tbody tr th:only-of-type {\n",
       "        vertical-align: middle;\n",
       "    }\n",
       "\n",
       "    .dataframe tbody tr th {\n",
       "        vertical-align: top;\n",
       "    }\n",
       "\n",
       "    .dataframe thead tr th {\n",
       "        text-align: left;\n",
       "    }\n",
       "\n",
       "    .dataframe thead tr:last-of-type th {\n",
       "        text-align: right;\n",
       "    }\n",
       "</style>\n",
       "<table border=\"1\" class=\"dataframe\">\n",
       "  <thead>\n",
       "    <tr>\n",
       "      <th></th>\n",
       "      <th>order_number</th>\n",
       "    </tr>\n",
       "    <tr>\n",
       "      <th></th>\n",
       "      <th>mean</th>\n",
       "    </tr>\n",
       "    <tr>\n",
       "      <th>department_id</th>\n",
       "      <th></th>\n",
       "    </tr>\n",
       "  </thead>\n",
       "  <tbody>\n",
       "    <tr>\n",
       "      <th>1</th>\n",
       "      <td>15.457838</td>\n",
       "    </tr>\n",
       "    <tr>\n",
       "      <th>2</th>\n",
       "      <td>17.277920</td>\n",
       "    </tr>\n",
       "    <tr>\n",
       "      <th>3</th>\n",
       "      <td>17.170395</td>\n",
       "    </tr>\n",
       "    <tr>\n",
       "      <th>4</th>\n",
       "      <td>17.811403</td>\n",
       "    </tr>\n",
       "    <tr>\n",
       "      <th>5</th>\n",
       "      <td>15.215751</td>\n",
       "    </tr>\n",
       "    <tr>\n",
       "      <th>6</th>\n",
       "      <td>16.439806</td>\n",
       "    </tr>\n",
       "    <tr>\n",
       "      <th>7</th>\n",
       "      <td>17.225802</td>\n",
       "    </tr>\n",
       "    <tr>\n",
       "      <th>8</th>\n",
       "      <td>15.340650</td>\n",
       "    </tr>\n",
       "    <tr>\n",
       "      <th>9</th>\n",
       "      <td>15.895474</td>\n",
       "    </tr>\n",
       "    <tr>\n",
       "      <th>10</th>\n",
       "      <td>20.197148</td>\n",
       "    </tr>\n",
       "    <tr>\n",
       "      <th>11</th>\n",
       "      <td>16.170638</td>\n",
       "    </tr>\n",
       "    <tr>\n",
       "      <th>12</th>\n",
       "      <td>15.887671</td>\n",
       "    </tr>\n",
       "    <tr>\n",
       "      <th>13</th>\n",
       "      <td>16.583536</td>\n",
       "    </tr>\n",
       "    <tr>\n",
       "      <th>14</th>\n",
       "      <td>16.773669</td>\n",
       "    </tr>\n",
       "    <tr>\n",
       "      <th>15</th>\n",
       "      <td>16.165037</td>\n",
       "    </tr>\n",
       "    <tr>\n",
       "      <th>16</th>\n",
       "      <td>17.665606</td>\n",
       "    </tr>\n",
       "    <tr>\n",
       "      <th>17</th>\n",
       "      <td>15.694469</td>\n",
       "    </tr>\n",
       "    <tr>\n",
       "      <th>18</th>\n",
       "      <td>19.310397</td>\n",
       "    </tr>\n",
       "    <tr>\n",
       "      <th>19</th>\n",
       "      <td>17.177343</td>\n",
       "    </tr>\n",
       "    <tr>\n",
       "      <th>20</th>\n",
       "      <td>16.473447</td>\n",
       "    </tr>\n",
       "    <tr>\n",
       "      <th>21</th>\n",
       "      <td>22.902379</td>\n",
       "    </tr>\n",
       "  </tbody>\n",
       "</table>\n",
       "</div>"
      ],
      "text/plain": [
       "              order_number\n",
       "                      mean\n",
       "department_id             \n",
       "1                15.457838\n",
       "2                17.277920\n",
       "3                17.170395\n",
       "4                17.811403\n",
       "5                15.215751\n",
       "6                16.439806\n",
       "7                17.225802\n",
       "8                15.340650\n",
       "9                15.895474\n",
       "10               20.197148\n",
       "11               16.170638\n",
       "12               15.887671\n",
       "13               16.583536\n",
       "14               16.773669\n",
       "15               16.165037\n",
       "16               17.665606\n",
       "17               15.694469\n",
       "18               19.310397\n",
       "19               17.177343\n",
       "20               16.473447\n",
       "21               22.902379"
      ]
     },
     "execution_count": 3,
     "metadata": {},
     "output_type": "execute_result"
    }
   ],
   "source": [
    "ords_prods_merged.groupby('department_id').agg({'order_number': ['mean']})"
   ]
  },
  {
   "cell_type": "markdown",
   "id": "bd37ebbe",
   "metadata": {},
   "source": [
    "This time the result shows all of the departments. In the reading, we were only working with 1 million rows of data so not all of the departments were represented."
   ]
  },
  {
   "cell_type": "markdown",
   "id": "7a000cb1",
   "metadata": {},
   "source": [
    "The values for the departments are also slightly different than in the reading because there are more orders from those departments which affects the result."
   ]
  },
  {
   "cell_type": "markdown",
   "id": "525b5131",
   "metadata": {},
   "source": [
    "## 4. Creating a loyalty flag"
   ]
  },
  {
   "cell_type": "code",
   "execution_count": 4,
   "id": "b8ac7b6e",
   "metadata": {},
   "outputs": [
    {
     "name": "stderr",
     "output_type": "stream",
     "text": [
      "C:\\Users\\rmr1q.000\\AppData\\Local\\Temp\\ipykernel_11084\\4039568899.py:3: FutureWarning: The provided callable <function amax at 0x000001F2B07C3BA0> is currently using SeriesGroupBy.max. In a future version of pandas, the provided callable will be used directly. To keep current behavior pass the string \"max\" instead.\n",
      "  ords_prods_merged['max_order'] = ords_prods_merged.groupby(['user_id'])['order_number'].transform(np.max)\n"
     ]
    }
   ],
   "source": [
    "#Creating a new column \"max_orders\" that shows how many orders each user has placed\n",
    "\n",
    "ords_prods_merged['max_order'] = ords_prods_merged.groupby(['user_id'])['order_number'].transform(np.max)"
   ]
  },
  {
   "cell_type": "code",
   "execution_count": 5,
   "id": "7d3a316c",
   "metadata": {},
   "outputs": [
    {
     "data": {
      "text/html": [
       "<div>\n",
       "<style scoped>\n",
       "    .dataframe tbody tr th:only-of-type {\n",
       "        vertical-align: middle;\n",
       "    }\n",
       "\n",
       "    .dataframe tbody tr th {\n",
       "        vertical-align: top;\n",
       "    }\n",
       "\n",
       "    .dataframe thead th {\n",
       "        text-align: right;\n",
       "    }\n",
       "</style>\n",
       "<table border=\"1\" class=\"dataframe\">\n",
       "  <thead>\n",
       "    <tr style=\"text-align: right;\">\n",
       "      <th></th>\n",
       "      <th>Unnamed: 0</th>\n",
       "      <th>Index</th>\n",
       "      <th>order_id</th>\n",
       "      <th>user_id</th>\n",
       "      <th>order_number</th>\n",
       "      <th>order_day_of_week</th>\n",
       "      <th>order_hour_of_day</th>\n",
       "      <th>days_since_prior_order</th>\n",
       "      <th>product_id</th>\n",
       "      <th>add_to_cart_order</th>\n",
       "      <th>...</th>\n",
       "      <th>_merge</th>\n",
       "      <th>price_range_loc</th>\n",
       "      <th>busiest day</th>\n",
       "      <th>busiest_period_of_day</th>\n",
       "      <th>max_order</th>\n",
       "      <th>loyalty_flag</th>\n",
       "      <th>spending_average</th>\n",
       "      <th>spending_flag</th>\n",
       "      <th>frequency_median</th>\n",
       "      <th>frequency_flag</th>\n",
       "    </tr>\n",
       "  </thead>\n",
       "  <tbody>\n",
       "    <tr>\n",
       "      <th>0</th>\n",
       "      <td>0</td>\n",
       "      <td>0</td>\n",
       "      <td>2539329</td>\n",
       "      <td>1</td>\n",
       "      <td>1</td>\n",
       "      <td>2</td>\n",
       "      <td>8</td>\n",
       "      <td>NaN</td>\n",
       "      <td>196</td>\n",
       "      <td>1</td>\n",
       "      <td>...</td>\n",
       "      <td>both</td>\n",
       "      <td>Mid-range product</td>\n",
       "      <td>Regular busy</td>\n",
       "      <td>Average orders</td>\n",
       "      <td>10</td>\n",
       "      <td>New customer</td>\n",
       "      <td>6.367797</td>\n",
       "      <td>Low spender</td>\n",
       "      <td>20.5</td>\n",
       "      <td>Frequent Customer</td>\n",
       "    </tr>\n",
       "    <tr>\n",
       "      <th>1</th>\n",
       "      <td>1</td>\n",
       "      <td>1</td>\n",
       "      <td>2398795</td>\n",
       "      <td>1</td>\n",
       "      <td>2</td>\n",
       "      <td>3</td>\n",
       "      <td>7</td>\n",
       "      <td>15.0</td>\n",
       "      <td>196</td>\n",
       "      <td>1</td>\n",
       "      <td>...</td>\n",
       "      <td>both</td>\n",
       "      <td>Mid-range product</td>\n",
       "      <td>Least busy</td>\n",
       "      <td>Average orders</td>\n",
       "      <td>10</td>\n",
       "      <td>New customer</td>\n",
       "      <td>6.367797</td>\n",
       "      <td>Low spender</td>\n",
       "      <td>20.5</td>\n",
       "      <td>Frequent Customer</td>\n",
       "    </tr>\n",
       "    <tr>\n",
       "      <th>2</th>\n",
       "      <td>2</td>\n",
       "      <td>2</td>\n",
       "      <td>473747</td>\n",
       "      <td>1</td>\n",
       "      <td>3</td>\n",
       "      <td>3</td>\n",
       "      <td>12</td>\n",
       "      <td>21.0</td>\n",
       "      <td>196</td>\n",
       "      <td>1</td>\n",
       "      <td>...</td>\n",
       "      <td>both</td>\n",
       "      <td>Mid-range product</td>\n",
       "      <td>Least busy</td>\n",
       "      <td>Average orders</td>\n",
       "      <td>10</td>\n",
       "      <td>New customer</td>\n",
       "      <td>6.367797</td>\n",
       "      <td>Low spender</td>\n",
       "      <td>20.5</td>\n",
       "      <td>Frequent Customer</td>\n",
       "    </tr>\n",
       "    <tr>\n",
       "      <th>3</th>\n",
       "      <td>3</td>\n",
       "      <td>3</td>\n",
       "      <td>2254736</td>\n",
       "      <td>1</td>\n",
       "      <td>4</td>\n",
       "      <td>4</td>\n",
       "      <td>7</td>\n",
       "      <td>29.0</td>\n",
       "      <td>196</td>\n",
       "      <td>1</td>\n",
       "      <td>...</td>\n",
       "      <td>both</td>\n",
       "      <td>Mid-range product</td>\n",
       "      <td>Least busy</td>\n",
       "      <td>Average orders</td>\n",
       "      <td>10</td>\n",
       "      <td>New customer</td>\n",
       "      <td>6.367797</td>\n",
       "      <td>Low spender</td>\n",
       "      <td>20.5</td>\n",
       "      <td>Frequent Customer</td>\n",
       "    </tr>\n",
       "    <tr>\n",
       "      <th>4</th>\n",
       "      <td>4</td>\n",
       "      <td>4</td>\n",
       "      <td>431534</td>\n",
       "      <td>1</td>\n",
       "      <td>5</td>\n",
       "      <td>4</td>\n",
       "      <td>15</td>\n",
       "      <td>28.0</td>\n",
       "      <td>196</td>\n",
       "      <td>1</td>\n",
       "      <td>...</td>\n",
       "      <td>both</td>\n",
       "      <td>Mid-range product</td>\n",
       "      <td>Least busy</td>\n",
       "      <td>Average orders</td>\n",
       "      <td>10</td>\n",
       "      <td>New customer</td>\n",
       "      <td>6.367797</td>\n",
       "      <td>Low spender</td>\n",
       "      <td>20.5</td>\n",
       "      <td>Frequent Customer</td>\n",
       "    </tr>\n",
       "  </tbody>\n",
       "</table>\n",
       "<p>5 rows × 25 columns</p>\n",
       "</div>"
      ],
      "text/plain": [
       "   Unnamed: 0  Index  order_id  user_id  order_number  order_day_of_week  \\\n",
       "0           0      0   2539329        1             1                  2   \n",
       "1           1      1   2398795        1             2                  3   \n",
       "2           2      2    473747        1             3                  3   \n",
       "3           3      3   2254736        1             4                  4   \n",
       "4           4      4    431534        1             5                  4   \n",
       "\n",
       "   order_hour_of_day  days_since_prior_order  product_id  add_to_cart_order  \\\n",
       "0                  8                     NaN         196                  1   \n",
       "1                  7                    15.0         196                  1   \n",
       "2                 12                    21.0         196                  1   \n",
       "3                  7                    29.0         196                  1   \n",
       "4                 15                    28.0         196                  1   \n",
       "\n",
       "   ...  _merge    price_range_loc   busiest day  busiest_period_of_day  \\\n",
       "0  ...    both  Mid-range product  Regular busy         Average orders   \n",
       "1  ...    both  Mid-range product    Least busy         Average orders   \n",
       "2  ...    both  Mid-range product    Least busy         Average orders   \n",
       "3  ...    both  Mid-range product    Least busy         Average orders   \n",
       "4  ...    both  Mid-range product    Least busy         Average orders   \n",
       "\n",
       "   max_order  loyalty_flag spending_average spending_flag frequency_median  \\\n",
       "0         10  New customer         6.367797   Low spender             20.5   \n",
       "1         10  New customer         6.367797   Low spender             20.5   \n",
       "2         10  New customer         6.367797   Low spender             20.5   \n",
       "3         10  New customer         6.367797   Low spender             20.5   \n",
       "4         10  New customer         6.367797   Low spender             20.5   \n",
       "\n",
       "      frequency_flag  \n",
       "0  Frequent Customer  \n",
       "1  Frequent Customer  \n",
       "2  Frequent Customer  \n",
       "3  Frequent Customer  \n",
       "4  Frequent Customer  \n",
       "\n",
       "[5 rows x 25 columns]"
      ]
     },
     "execution_count": 5,
     "metadata": {},
     "output_type": "execute_result"
    }
   ],
   "source": [
    "#Confirming the new column has been added\n",
    "\n",
    "ords_prods_merged.head()"
   ]
  },
  {
   "cell_type": "code",
   "execution_count": 6,
   "id": "ae4a20d4",
   "metadata": {},
   "outputs": [],
   "source": [
    "#Using the .loc() function to create the loyalty flags"
   ]
  },
  {
   "cell_type": "code",
   "execution_count": 7,
   "id": "86f6f8a2",
   "metadata": {},
   "outputs": [],
   "source": [
    "ords_prods_merged.loc[ords_prods_merged['max_order'] > 40, 'loyalty_flag'] = 'Loyal customer'"
   ]
  },
  {
   "cell_type": "code",
   "execution_count": 8,
   "id": "325e7a70",
   "metadata": {},
   "outputs": [],
   "source": [
    "ords_prods_merged.loc[(ords_prods_merged['max_order'] > 10) & (ords_prods_merged['max_order'] <= 40), 'loyalty_flag'] = 'Regular Customer'"
   ]
  },
  {
   "cell_type": "code",
   "execution_count": 9,
   "id": "c6a61047",
   "metadata": {},
   "outputs": [],
   "source": [
    "ords_prods_merged.loc[ords_prods_merged['max_order'] <= 10, 'loyalty_flag'] = 'New customer'"
   ]
  },
  {
   "cell_type": "code",
   "execution_count": 10,
   "id": "9b6bc60f",
   "metadata": {},
   "outputs": [
    {
     "data": {
      "text/plain": [
       "loyalty_flag\n",
       "Regular Customer    15876776\n",
       "Loyal customer      10284093\n",
       "New customer         6243990\n",
       "Name: count, dtype: int64"
      ]
     },
     "execution_count": 10,
     "metadata": {},
     "output_type": "execute_result"
    }
   ],
   "source": [
    "#Chceking the frequency distribution\n",
    "\n",
    "ords_prods_merged['loyalty_flag'].value_counts()"
   ]
  },
  {
   "cell_type": "markdown",
   "id": "d0859fb1",
   "metadata": {},
   "source": [
    "## 5. Identifying basic statistics between the different loyalty groups|"
   ]
  },
  {
   "cell_type": "code",
   "execution_count": 11,
   "id": "4f1cdd58",
   "metadata": {},
   "outputs": [
    {
     "data": {
      "text/html": [
       "<div>\n",
       "<style scoped>\n",
       "    .dataframe tbody tr th:only-of-type {\n",
       "        vertical-align: middle;\n",
       "    }\n",
       "\n",
       "    .dataframe tbody tr th {\n",
       "        vertical-align: top;\n",
       "    }\n",
       "\n",
       "    .dataframe thead tr th {\n",
       "        text-align: left;\n",
       "    }\n",
       "\n",
       "    .dataframe thead tr:last-of-type th {\n",
       "        text-align: right;\n",
       "    }\n",
       "</style>\n",
       "<table border=\"1\" class=\"dataframe\">\n",
       "  <thead>\n",
       "    <tr>\n",
       "      <th></th>\n",
       "      <th colspan=\"3\" halign=\"left\">prices</th>\n",
       "    </tr>\n",
       "    <tr>\n",
       "      <th></th>\n",
       "      <th>mean</th>\n",
       "      <th>min</th>\n",
       "      <th>max</th>\n",
       "    </tr>\n",
       "    <tr>\n",
       "      <th>loyalty_flag</th>\n",
       "      <th></th>\n",
       "      <th></th>\n",
       "      <th></th>\n",
       "    </tr>\n",
       "  </thead>\n",
       "  <tbody>\n",
       "    <tr>\n",
       "      <th>Loyal customer</th>\n",
       "      <td>10.386336</td>\n",
       "      <td>1.0</td>\n",
       "      <td>99999.0</td>\n",
       "    </tr>\n",
       "    <tr>\n",
       "      <th>New customer</th>\n",
       "      <td>13.294670</td>\n",
       "      <td>1.0</td>\n",
       "      <td>99999.0</td>\n",
       "    </tr>\n",
       "    <tr>\n",
       "      <th>Regular Customer</th>\n",
       "      <td>12.495717</td>\n",
       "      <td>1.0</td>\n",
       "      <td>99999.0</td>\n",
       "    </tr>\n",
       "  </tbody>\n",
       "</table>\n",
       "</div>"
      ],
      "text/plain": [
       "                     prices              \n",
       "                       mean  min      max\n",
       "loyalty_flag                             \n",
       "Loyal customer    10.386336  1.0  99999.0\n",
       "New customer      13.294670  1.0  99999.0\n",
       "Regular Customer  12.495717  1.0  99999.0"
      ]
     },
     "execution_count": 11,
     "metadata": {},
     "output_type": "execute_result"
    }
   ],
   "source": [
    "ords_prods_merged.groupby('loyalty_flag').agg({'prices': ['mean', 'min', 'max']})"
   ]
  },
  {
   "cell_type": "markdown",
   "id": "28405398",
   "metadata": {},
   "source": [
    "## Investigating the max value"
   ]
  },
  {
   "cell_type": "code",
   "execution_count": 12,
   "id": "ee702527",
   "metadata": {},
   "outputs": [],
   "source": [
    "#It seems interesting that there is a product that costs 999999 so I wanted to investigate which product(s) have this price\n",
    "\n",
    "over_priced = ords_prods_merged.loc[ords_prods_merged['prices'] == 99999]"
   ]
  },
  {
   "cell_type": "code",
   "execution_count": 13,
   "id": "c4f448c1",
   "metadata": {},
   "outputs": [
    {
     "data": {
      "text/plain": [
       "product_name\n",
       "2 % Reduced Fat  Milk    698\n",
       "Name: count, dtype: int64"
      ]
     },
     "execution_count": 13,
     "metadata": {},
     "output_type": "execute_result"
    }
   ],
   "source": [
    "over_priced['product_name'].value_counts()"
   ]
  },
  {
   "cell_type": "markdown",
   "id": "2994bdc1",
   "metadata": {},
   "source": [
    "It seems that 2% Reduced Fat Milk is very expensive at this store :O"
   ]
  },
  {
   "cell_type": "markdown",
   "id": "8bde4e53",
   "metadata": {},
   "source": [
    "## 6. Identifying high and low spenders"
   ]
  },
  {
   "cell_type": "code",
   "execution_count": 14,
   "id": "1df0aba2",
   "metadata": {},
   "outputs": [
    {
     "name": "stderr",
     "output_type": "stream",
     "text": [
      "C:\\Users\\rmr1q.000\\AppData\\Local\\Temp\\ipykernel_11084\\1946724490.py:3: FutureWarning: The provided callable <function mean at 0x000001F2B07CC900> is currently using SeriesGroupBy.mean. In a future version of pandas, the provided callable will be used directly. To keep current behavior pass the string \"mean\" instead.\n",
      "  ords_prods_merged['spending_average'] = ords_prods_merged.groupby(['user_id'])['prices'].transform(np.mean)\n"
     ]
    }
   ],
   "source": [
    "#Creating a new column for the spending averages for each customer\n",
    "\n",
    "ords_prods_merged['spending_average'] = ords_prods_merged.groupby(['user_id'])['prices'].transform(np.mean)"
   ]
  },
  {
   "cell_type": "code",
   "execution_count": 15,
   "id": "4e8a5d12",
   "metadata": {},
   "outputs": [],
   "source": [
    "#Creating a new flag for high spenders and low spenders based on the spending average"
   ]
  },
  {
   "cell_type": "code",
   "execution_count": 16,
   "id": "e79b681e",
   "metadata": {},
   "outputs": [],
   "source": [
    "ords_prods_merged.loc[ords_prods_merged['spending_average'] < 10, 'spending_flag'] = 'Low spender'"
   ]
  },
  {
   "cell_type": "code",
   "execution_count": 17,
   "id": "3ef5f00f",
   "metadata": {},
   "outputs": [],
   "source": [
    "ords_prods_merged.loc[ords_prods_merged['spending_average'] >= 10, 'spending_flag'] = 'High spender'"
   ]
  },
  {
   "cell_type": "code",
   "execution_count": 18,
   "id": "b296228f",
   "metadata": {},
   "outputs": [
    {
     "data": {
      "text/plain": [
       "spending_flag\n",
       "Low spender     31770614\n",
       "High spender      634245\n",
       "Name: count, dtype: int64"
      ]
     },
     "execution_count": 18,
     "metadata": {},
     "output_type": "execute_result"
    }
   ],
   "source": [
    "#Checking the frequency distribution\n",
    "\n",
    "ords_prods_merged['spending_flag'].value_counts()"
   ]
  },
  {
   "cell_type": "markdown",
   "id": "bb8264dd",
   "metadata": {},
   "source": [
    "## 7. Identifying frequent and non-frequent customers"
   ]
  },
  {
   "cell_type": "code",
   "execution_count": 27,
   "id": "8d00101f",
   "metadata": {},
   "outputs": [
    {
     "name": "stderr",
     "output_type": "stream",
     "text": [
      "C:\\Users\\rmr1q.000\\AppData\\Local\\Temp\\ipykernel_11084\\1422390895.py:3: FutureWarning: The provided callable <function median at 0x000001F2B0906480> is currently using SeriesGroupBy.median. In a future version of pandas, the provided callable will be used directly. To keep current behavior pass the string \"median\" instead.\n",
      "  ords_prods_merged['frequency_median'] = ords_prods_merged.groupby(['user_id'])['days_since_prior_order'].transform(np.median)\n"
     ]
    }
   ],
   "source": [
    "#Creating a new column for the median number of days since a customer's last order\n",
    "\n",
    "ords_prods_merged['frequency_median'] = ords_prods_merged.groupby(['user_id'])['days_since_prior_order'].transform(np.median)"
   ]
  },
  {
   "cell_type": "code",
   "execution_count": 28,
   "id": "bfc99f7c",
   "metadata": {},
   "outputs": [
    {
     "data": {
      "text/html": [
       "<div>\n",
       "<style scoped>\n",
       "    .dataframe tbody tr th:only-of-type {\n",
       "        vertical-align: middle;\n",
       "    }\n",
       "\n",
       "    .dataframe tbody tr th {\n",
       "        vertical-align: top;\n",
       "    }\n",
       "\n",
       "    .dataframe thead th {\n",
       "        text-align: right;\n",
       "    }\n",
       "</style>\n",
       "<table border=\"1\" class=\"dataframe\">\n",
       "  <thead>\n",
       "    <tr style=\"text-align: right;\">\n",
       "      <th></th>\n",
       "      <th>Unnamed: 0</th>\n",
       "      <th>Index</th>\n",
       "      <th>order_id</th>\n",
       "      <th>user_id</th>\n",
       "      <th>order_number</th>\n",
       "      <th>order_day_of_week</th>\n",
       "      <th>order_hour_of_day</th>\n",
       "      <th>days_since_prior_order</th>\n",
       "      <th>product_id</th>\n",
       "      <th>add_to_cart_order</th>\n",
       "      <th>...</th>\n",
       "      <th>_merge</th>\n",
       "      <th>price_range_loc</th>\n",
       "      <th>busiest day</th>\n",
       "      <th>busiest_period_of_day</th>\n",
       "      <th>max_order</th>\n",
       "      <th>loyalty_flag</th>\n",
       "      <th>spending_average</th>\n",
       "      <th>spending_flag</th>\n",
       "      <th>frequency_median</th>\n",
       "      <th>frequency_flag</th>\n",
       "    </tr>\n",
       "  </thead>\n",
       "  <tbody>\n",
       "    <tr>\n",
       "      <th>0</th>\n",
       "      <td>0</td>\n",
       "      <td>0</td>\n",
       "      <td>2539329</td>\n",
       "      <td>1</td>\n",
       "      <td>1</td>\n",
       "      <td>2</td>\n",
       "      <td>8</td>\n",
       "      <td>NaN</td>\n",
       "      <td>196</td>\n",
       "      <td>1</td>\n",
       "      <td>...</td>\n",
       "      <td>both</td>\n",
       "      <td>Mid-range product</td>\n",
       "      <td>Regular busy</td>\n",
       "      <td>Average orders</td>\n",
       "      <td>10</td>\n",
       "      <td>New customer</td>\n",
       "      <td>6.367797</td>\n",
       "      <td>Low spender</td>\n",
       "      <td>20.5</td>\n",
       "      <td>Frequent Customer</td>\n",
       "    </tr>\n",
       "    <tr>\n",
       "      <th>1</th>\n",
       "      <td>1</td>\n",
       "      <td>1</td>\n",
       "      <td>2398795</td>\n",
       "      <td>1</td>\n",
       "      <td>2</td>\n",
       "      <td>3</td>\n",
       "      <td>7</td>\n",
       "      <td>15.0</td>\n",
       "      <td>196</td>\n",
       "      <td>1</td>\n",
       "      <td>...</td>\n",
       "      <td>both</td>\n",
       "      <td>Mid-range product</td>\n",
       "      <td>Least busy</td>\n",
       "      <td>Average orders</td>\n",
       "      <td>10</td>\n",
       "      <td>New customer</td>\n",
       "      <td>6.367797</td>\n",
       "      <td>Low spender</td>\n",
       "      <td>20.5</td>\n",
       "      <td>Frequent Customer</td>\n",
       "    </tr>\n",
       "    <tr>\n",
       "      <th>2</th>\n",
       "      <td>2</td>\n",
       "      <td>2</td>\n",
       "      <td>473747</td>\n",
       "      <td>1</td>\n",
       "      <td>3</td>\n",
       "      <td>3</td>\n",
       "      <td>12</td>\n",
       "      <td>21.0</td>\n",
       "      <td>196</td>\n",
       "      <td>1</td>\n",
       "      <td>...</td>\n",
       "      <td>both</td>\n",
       "      <td>Mid-range product</td>\n",
       "      <td>Least busy</td>\n",
       "      <td>Average orders</td>\n",
       "      <td>10</td>\n",
       "      <td>New customer</td>\n",
       "      <td>6.367797</td>\n",
       "      <td>Low spender</td>\n",
       "      <td>20.5</td>\n",
       "      <td>Frequent Customer</td>\n",
       "    </tr>\n",
       "    <tr>\n",
       "      <th>3</th>\n",
       "      <td>3</td>\n",
       "      <td>3</td>\n",
       "      <td>2254736</td>\n",
       "      <td>1</td>\n",
       "      <td>4</td>\n",
       "      <td>4</td>\n",
       "      <td>7</td>\n",
       "      <td>29.0</td>\n",
       "      <td>196</td>\n",
       "      <td>1</td>\n",
       "      <td>...</td>\n",
       "      <td>both</td>\n",
       "      <td>Mid-range product</td>\n",
       "      <td>Least busy</td>\n",
       "      <td>Average orders</td>\n",
       "      <td>10</td>\n",
       "      <td>New customer</td>\n",
       "      <td>6.367797</td>\n",
       "      <td>Low spender</td>\n",
       "      <td>20.5</td>\n",
       "      <td>Frequent Customer</td>\n",
       "    </tr>\n",
       "    <tr>\n",
       "      <th>4</th>\n",
       "      <td>4</td>\n",
       "      <td>4</td>\n",
       "      <td>431534</td>\n",
       "      <td>1</td>\n",
       "      <td>5</td>\n",
       "      <td>4</td>\n",
       "      <td>15</td>\n",
       "      <td>28.0</td>\n",
       "      <td>196</td>\n",
       "      <td>1</td>\n",
       "      <td>...</td>\n",
       "      <td>both</td>\n",
       "      <td>Mid-range product</td>\n",
       "      <td>Least busy</td>\n",
       "      <td>Average orders</td>\n",
       "      <td>10</td>\n",
       "      <td>New customer</td>\n",
       "      <td>6.367797</td>\n",
       "      <td>Low spender</td>\n",
       "      <td>20.5</td>\n",
       "      <td>Frequent Customer</td>\n",
       "    </tr>\n",
       "  </tbody>\n",
       "</table>\n",
       "<p>5 rows × 25 columns</p>\n",
       "</div>"
      ],
      "text/plain": [
       "   Unnamed: 0  Index  order_id  user_id  order_number  order_day_of_week  \\\n",
       "0           0      0   2539329        1             1                  2   \n",
       "1           1      1   2398795        1             2                  3   \n",
       "2           2      2    473747        1             3                  3   \n",
       "3           3      3   2254736        1             4                  4   \n",
       "4           4      4    431534        1             5                  4   \n",
       "\n",
       "   order_hour_of_day  days_since_prior_order  product_id  add_to_cart_order  \\\n",
       "0                  8                     NaN         196                  1   \n",
       "1                  7                    15.0         196                  1   \n",
       "2                 12                    21.0         196                  1   \n",
       "3                  7                    29.0         196                  1   \n",
       "4                 15                    28.0         196                  1   \n",
       "\n",
       "   ...  _merge    price_range_loc   busiest day  busiest_period_of_day  \\\n",
       "0  ...    both  Mid-range product  Regular busy         Average orders   \n",
       "1  ...    both  Mid-range product    Least busy         Average orders   \n",
       "2  ...    both  Mid-range product    Least busy         Average orders   \n",
       "3  ...    both  Mid-range product    Least busy         Average orders   \n",
       "4  ...    both  Mid-range product    Least busy         Average orders   \n",
       "\n",
       "   max_order  loyalty_flag spending_average spending_flag frequency_median  \\\n",
       "0         10  New customer         6.367797   Low spender             20.5   \n",
       "1         10  New customer         6.367797   Low spender             20.5   \n",
       "2         10  New customer         6.367797   Low spender             20.5   \n",
       "3         10  New customer         6.367797   Low spender             20.5   \n",
       "4         10  New customer         6.367797   Low spender             20.5   \n",
       "\n",
       "      frequency_flag  \n",
       "0  Frequent Customer  \n",
       "1  Frequent Customer  \n",
       "2  Frequent Customer  \n",
       "3  Frequent Customer  \n",
       "4  Frequent Customer  \n",
       "\n",
       "[5 rows x 25 columns]"
      ]
     },
     "execution_count": 28,
     "metadata": {},
     "output_type": "execute_result"
    }
   ],
   "source": [
    "#Checking the data frame for the new column\n",
    "\n",
    "ords_prods_merged.head()"
   ]
  },
  {
   "cell_type": "code",
   "execution_count": 29,
   "id": "22037fd9",
   "metadata": {},
   "outputs": [],
   "source": [
    "#Creating new flag for frequency of customers based on the median frequency since their last order"
   ]
  },
  {
   "cell_type": "code",
   "execution_count": 30,
   "id": "867efdcb",
   "metadata": {},
   "outputs": [],
   "source": [
    "ords_prods_merged.loc[ords_prods_merged['frequency_median'] > 20, 'frequency_flag'] = 'Non-frequent Customer'"
   ]
  },
  {
   "cell_type": "code",
   "execution_count": 31,
   "id": "0dfec2be",
   "metadata": {},
   "outputs": [],
   "source": [
    "ords_prods_merged.loc[(ords_prods_merged['frequency_median'] <= 20) & (ords_prods_merged['frequency_median'] > 10), 'frequency_flag'] = 'Regular Customer'"
   ]
  },
  {
   "cell_type": "code",
   "execution_count": 32,
   "id": "d7f72e26",
   "metadata": {},
   "outputs": [],
   "source": [
    "ords_prods_merged.loc[ords_prods_merged['frequency_median'] <= 10, 'frequency_flag'] = 'Frequent Customer'"
   ]
  },
  {
   "cell_type": "code",
   "execution_count": 33,
   "id": "6a65b925",
   "metadata": {},
   "outputs": [
    {
     "data": {
      "text/plain": [
       "frequency_flag\n",
       "Frequent Customer        21559853\n",
       "Regular Customer          7208564\n",
       "Non-frequent Customer     3636437\n",
       "Name: count, dtype: int64"
      ]
     },
     "execution_count": 33,
     "metadata": {},
     "output_type": "execute_result"
    }
   ],
   "source": [
    "#Checking the frequency distribution\n",
    "\n",
    "ords_prods_merged['frequency_flag'].value_counts()"
   ]
  },
  {
   "cell_type": "markdown",
   "id": "be56e135",
   "metadata": {},
   "source": [
    "## 9. Exporting the data"
   ]
  },
  {
   "cell_type": "code",
   "execution_count": 34,
   "id": "3de2d88f",
   "metadata": {},
   "outputs": [],
   "source": [
    "#Overwriting the previous data file because there are more new columns and having too many files can be problematic\n",
    "\n",
    "ords_prods_merged.to_pickle(os.path.join(path, '02 Data', 'Prepared Data', 'orders_products_merged_new_columns.pkl'))"
   ]
  },
  {
   "cell_type": "code",
   "execution_count": null,
   "id": "effd3d8f",
   "metadata": {},
   "outputs": [],
   "source": []
  }
 ],
 "metadata": {
  "kernelspec": {
   "display_name": "Python 3 (ipykernel)",
   "language": "python",
   "name": "python3"
  },
  "language_info": {
   "codemirror_mode": {
    "name": "ipython",
    "version": 3
   },
   "file_extension": ".py",
   "mimetype": "text/x-python",
   "name": "python",
   "nbconvert_exporter": "python",
   "pygments_lexer": "ipython3",
   "version": "3.11.5"
  }
 },
 "nbformat": 4,
 "nbformat_minor": 5
}
